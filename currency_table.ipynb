{
 "cells": [
  {
   "cell_type": "code",
   "execution_count": null,
   "id": "a6e6cf8c-284f-4d9d-ac3f-7cb096b143fe",
   "metadata": {},
   "outputs": [],
   "source": [
    "import requests\n",
    "import pandas as pd"
   ]
  },
  {
   "cell_type": "code",
   "execution_count": null,
   "id": "557ee2f2-952c-47f4-b4e9-09bd00a82dcc",
   "metadata": {},
   "outputs": [],
   "source": [
    "# Get base currency from the user\n",
    "base_currency = input(\"Enter base currency (e.g. USD): \").upper()\n",
    "\n",
    "# Define list of target currencies to convert to\n",
    "target_currencies = [\"EUR\", \"GBP\", \"JPY\", \"TRY\", \"IRR\"]\n",
    "\n",
    "# API key (free/public)\n",
    "API_KEY = \"4f5b5f041f784f51a87153823240606\"\n",
    "\n",
    "# List to store results\n",
    "results = []\n",
    "\n",
    "# Loop through each target currency\n",
    "for target in target_currencies:\n",
    "    # build the API request URL\n",
    "    url = f\"https://v6.exchangerate-api.com/v6/{API_KEY}/pair/{base_currency}/{target}\"\n",
    "    \n",
    "    # Send GET request to the API\n",
    "    response = requests.get(url)\n",
    "    data = response.json()\n",
    "    \n",
    "    # Check if request was successful\n",
    "    if data[\"result\"] == \"success\":\n",
    "        rate = data[\"conversion_rate\"]\n",
    "        results.append({\"Currency\": target, \"Rate\": rate})\n",
    "    else:\n",
    "        results.append({\"Currency\": target, \"Rate\": \"Error\"})"
   ]
  },
  {
   "cell_type": "code",
   "execution_count": null,
   "id": "a91b0319-c3a6-4e87-85c2-5a2c388f9959",
   "metadata": {},
   "outputs": [],
   "source": [
    "# Convert results list to a pandas DataFrame\n",
    "df = pd.DataFrame(results)\n",
    "print(\"Exchange Rates Table:\")\n",
    "print(df)"
   ]
  }
 ],
 "metadata": {
  "kernelspec": {
   "display_name": "Python 3 (ipykernel)",
   "language": "python",
   "name": "python3"
  },
  "language_info": {
   "codemirror_mode": {
    "name": "ipython",
    "version": 3
   },
   "file_extension": ".py",
   "mimetype": "text/x-python",
   "name": "python",
   "nbconvert_exporter": "python",
   "pygments_lexer": "ipython3",
   "version": "3.13.2"
  }
 },
 "nbformat": 4,
 "nbformat_minor": 5
}
